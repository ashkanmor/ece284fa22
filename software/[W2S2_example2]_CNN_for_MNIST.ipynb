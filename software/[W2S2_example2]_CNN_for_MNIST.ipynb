{
 "cells": [
  {
   "cell_type": "code",
   "execution_count": 1,
   "id": "completed-burns",
   "metadata": {
    "tags": []
   },
   "outputs": [
    {
     "name": "stderr",
     "output_type": "stream",
     "text": [
      "/opt/conda/lib/python3.9/site-packages/torchvision/datasets/mnist.py:498: UserWarning: The given NumPy array is not writeable, and PyTorch does not support non-writeable tensors. This means you can write to the underlying (supposedly non-writeable) NumPy array using the tensor. You may want to copy the array to protect its data or make it writeable before converting it to a tensor. This type of warning will be suppressed for the rest of this program. (Triggered internally at  /pytorch/torch/csrc/utils/tensor_numpy.cpp:180.)\n",
      "  return torch.from_numpy(parsed.astype(m[2], copy=False)).view(*s)\n"
     ]
    },
    {
     "name": "stdout",
     "output_type": "stream",
     "text": [
      "Net(\n",
      "  (conv1): Conv2d(1, 32, kernel_size=(3, 3), stride=(1, 1))\n",
      "  (conv2): Conv2d(32, 64, kernel_size=(3, 3), stride=(1, 1))\n",
      "  (dropout1): Dropout(p=0.25, inplace=False)\n",
      "  (dropout2): Dropout(p=0.5, inplace=False)\n",
      "  (fc1): Linear(in_features=9216, out_features=128, bias=True)\n",
      "  (fc2): Linear(in_features=128, out_features=10, bias=True)\n",
      ")\n"
     ]
    }
   ],
   "source": [
    "import torch\n",
    "import numpy as np\n",
    "from torchvision import datasets\n",
    "import torchvision\n",
    "import torchvision.transforms as transforms\n",
    "\n",
    "# number of subprocesses to use for data loading\n",
    "num_workers = 0\n",
    "# how many samples per batch to load\n",
    "batch_size = 20\n",
    "\n",
    "# convert data to torch.FloatTensor\n",
    "\n",
    "use_gpu = torch.cuda.is_available()\n",
    "device = torch.device(\"cuda\" if use_gpu else \"cpu\") \n",
    "\n",
    "PATH = \"save/trained_cnn_model.pt\"\n",
    "\n",
    "transform = transforms.Compose(\n",
    "    [transforms.ToTensor(),\n",
    "     transforms.Normalize((0.1307), (0.3081))])\n",
    "\n",
    "\n",
    "# choose the training and test datasets\n",
    "train_data = datasets.MNIST(root='data', train=True, download=True,  transform=transform)\n",
    "test_data  = datasets.MNIST(root='data', train=False, download=True, transform=transform)\n",
    "\n",
    "# prepare data loaders\n",
    "train_loader = torch.utils.data.DataLoader(train_data, batch_size=batch_size,\n",
    "    num_workers=num_workers)\n",
    "test_loader = torch.utils.data.DataLoader(test_data, batch_size=batch_size, \n",
    "    num_workers=num_workers)\n",
    "\n",
    "\n",
    "import torch.nn as nn\n",
    "import torch.nn.functional as F\n",
    "\n",
    "## Define the NN architecture\n",
    "class Net(nn.Module):\n",
    "    def __init__(self):\n",
    "        super(Net, self).__init__()\n",
    "        self.conv1 = nn.Conv2d(1, 32, 3, 1)   # 3: kernel size, 1: stride\n",
    "        self.conv2 = nn.Conv2d(32, 64, 3, 1)\n",
    "        self.dropout1 = nn.Dropout(0.25)\n",
    "        self.dropout2 = nn.Dropout(0.5)\n",
    "        self.fc1 = nn.Linear(9216, 128)\n",
    "        self.fc2 = nn.Linear(128, 10)\n",
    "\n",
    "    def forward(self, x):\n",
    "        x = self.conv1(x)\n",
    "        x = F.relu(x)\n",
    "        x = self.conv2(x)\n",
    "        x = F.relu(x)\n",
    "        x = F.max_pool2d(x, 2)\n",
    "        x = self.dropout1(x)\n",
    "        x = torch.flatten(x, 1)  # make a vector\n",
    "        x = self.fc1(x)\n",
    "        x = F.relu(x)\n",
    "        x = self.dropout2(x)\n",
    "        x = self.fc2(x)\n",
    "        output = F.log_softmax(x, dim=1) # voting\n",
    "        return output\n",
    "\n",
    "model = Net().to(device)\n",
    "print(model)\n",
    "\n",
    "criterion = nn.CrossEntropyLoss().to(device)\n",
    "optimizer = torch.optim.SGD(model.parameters(), lr=0.01)"
   ]
  },
  {
   "cell_type": "code",
   "execution_count": 2,
   "id": "sapphire-convention",
   "metadata": {},
   "outputs": [
    {
     "name": "stderr",
     "output_type": "stream",
     "text": [
      "Clipping input data to the valid range for imshow with RGB data ([0..1] for floats or [0..255] for integers).\n"
     ]
    },
    {
     "data": {
      "image/png": "[encoded data removed]",
      "text/plain": [
       "<Figure size 432x288 with 1 Axes>"
      ]
     },
     "metadata": {
      "needs_background": "light"
     },
     "output_type": "display_data"
    }
   ],
   "source": [
    "import matplotlib.pyplot as plt\n",
    "import numpy as np\n",
    "\n",
    "# functions to show an image\n",
    "\n",
    "def imshow(img):\n",
    "    #img = img / 2 + 0.5     # unnormalize   \n",
    "    npimg = img.numpy()\n",
    "    plt.imshow(np.transpose(npimg, (1, 2, 0)))\n",
    "    plt.show()\n",
    "\n",
    "# get some random training images\n",
    "dataiter = iter(test_loader)\n",
    "images, labels = dataiter.next() ## If you run this line, the next data batch is called subsequently.\n",
    "\n",
    "# show images\n",
    "imshow(torchvision.utils.make_grid(images))"
   ]
  },
  {
   "cell_type": "code",
   "execution_count": 3,
   "id": "dedicated-importance",
   "metadata": {},
   "outputs": [
    {
     "name": "stderr",
     "output_type": "stream",
     "text": [
      "/opt/conda/lib/python3.9/site-packages/torch/nn/functional.py:718: UserWarning: Named tensors and all their associated APIs are an experimental feature and subject to change. Please do not use them for anything important until they are released as stable. (Triggered internally at  /pytorch/c10/core/TensorImpl.h:1156.)\n",
      "  return torch.max_pool2d(input, kernel_size, stride, padding, dilation, ceil_mode)\n"
     ]
    },
    {
     "name": "stdout",
     "output_type": "stream",
     "text": [
      "Epoch: 1 \tTraining Loss: 0.369863\n",
      "Epoch: 2 \tTraining Loss: 0.140756\n",
      "Epoch: 3 \tTraining Loss: 0.102357\n",
      "Epoch: 4 \tTraining Loss: 0.080732\n",
      "Epoch: 5 \tTraining Loss: 0.068254\n",
      "Epoch: 6 \tTraining Loss: 0.059373\n",
      "Epoch: 7 \tTraining Loss: 0.054580\n",
      "Epoch: 8 \tTraining Loss: 0.049472\n",
      "Epoch: 9 \tTraining Loss: 0.045767\n",
      "Epoch: 10 \tTraining Loss: 0.042755\n"
     ]
    }
   ],
   "source": [
    "import os\n",
    "if not os.path.exists('./save'):\n",
    "    os.makedirs('./save')\n",
    "        \n",
    "# number of epochs to train the model\n",
    "n_epochs = 10  \n",
    "# per epoch, all the training data set is used once\n",
    "model.train() # prep model for training\n",
    "\n",
    "\n",
    "for epoch in range(n_epochs):\n",
    "    # monitor training loss\n",
    "    train_loss = 0.0\n",
    "    \n",
    "    ###################\n",
    "    # train the model #\n",
    "    ###################\n",
    "    for data, target in train_loader:\n",
    "        data, target = data.to(device), target.to(device) # loading to GPU\n",
    "        # clear the gradients of all optimized variables\n",
    "        optimizer.zero_grad()\n",
    "        # forward pass: compute predicted outputs by passing inputs to the model\n",
    "        output = model(data)\n",
    "        # calculate the loss\n",
    "        loss = criterion(output, target)\n",
    "        loss.backward()\n",
    "        optimizer.step()\n",
    "        train_loss += loss.item()*data.size(0) # as loss is tensor, .item() needed to get the value\n",
    "        \n",
    "    # print training statistics \n",
    "    # calculate average loss over an epoch\n",
    "    train_loss = train_loss/len(train_loader.dataset)\n",
    "\n",
    "    print('Epoch: {} \\tTraining Loss: {:.6f}'.format(epoch+1, train_loss))\n",
    "    \n",
    "# see following link for details of state_dict   \n",
    "# https://pytorch.org/tutorials/recipes/recipes/saving_and_loading_a_general_checkpoint.html\n",
    "torch.save({\n",
    "            'epoch': epoch,\n",
    "            'model_state_dict': model.state_dict(),\n",
    "            'optimizer_state_dict': optimizer.state_dict(),\n",
    "            'loss': train_loss,\n",
    "            }, PATH)"
   ]
  },
  {
   "cell_type": "code",
   "execution_count": 4,
   "id": "coordinated-berry",
   "metadata": {},
   "outputs": [],
   "source": [
    "checkpoint = torch.load(PATH)\n",
    "model.load_state_dict(checkpoint['model_state_dict'])\n",
    "optimizer.load_state_dict(checkpoint['optimizer_state_dict'])\n",
    "epoch = checkpoint['epoch']\n",
    "train_loss = checkpoint['loss']"
   ]
  },
  {
   "cell_type": "code",
   "execution_count": 5,
   "id": "tender-darkness",
   "metadata": {},
   "outputs": [
    {
     "data": {
      "text/plain": [
       "tensor([[[[-0.1719, -0.2382, -0.1114],\n",
       "          [ 0.1765,  0.1039, -0.1465],\n",
       "          [-0.2869,  0.1466,  0.0865]]],\n",
       "\n",
       "\n",
       "        [[[-0.3549, -0.2107, -0.0760],\n",
       "          [ 0.0686, -0.2991, -0.2356],\n",
       "          [ 0.1710, -0.1431,  0.3759]]],\n",
       "\n",
       "\n",
       "        [[[ 0.1822,  0.1650,  0.2760],\n",
       "          [ 0.0913,  0.4720,  0.3841],\n",
       "          [-0.3681, -0.3064,  0.1277]]],\n",
       "\n",
       "\n",
       "        [[[-0.2845,  0.3347, -0.0519],\n",
       "          [ 0.1044, -0.1289,  0.1150],\n",
       "          [-0.2689,  0.3474, -0.2066]]],\n",
       "\n",
       "\n",
       "        [[[ 0.3870, -0.1463, -0.2273],\n",
       "          [ 0.2218,  0.0973, -0.2650],\n",
       "          [ 0.4210, -0.2507, -0.2586]]],\n",
       "\n",
       "\n",
       "        [[[ 0.1300,  0.3166, -0.0734],\n",
       "          [-0.1627, -0.0112,  0.3274],\n",
       "          [-0.3547, -0.2361, -0.1862]]],\n",
       "\n",
       "\n",
       "        [[[ 0.3090,  0.5823,  0.5246],\n",
       "          [-0.1520,  0.1741,  0.0682],\n",
       "          [ 0.2888,  0.2055, -0.4660]]],\n",
       "\n",
       "\n",
       "        [[[-0.2343,  0.1516, -0.2985],\n",
       "          [-0.1825, -0.2083,  0.0108],\n",
       "          [-0.3734, -0.3266, -0.0567]]],\n",
       "\n",
       "\n",
       "        [[[ 0.1611, -0.0357, -0.3313],\n",
       "          [ 0.2392, -0.1290,  0.2725],\n",
       "          [-0.0931,  0.3826,  0.1519]]],\n",
       "\n",
       "\n",
       "        [[[ 0.2251,  0.0582, -0.5385],\n",
       "          [ 0.4366, -0.3279, -0.1417],\n",
       "          [ 0.5377,  0.3311,  0.2415]]],\n",
       "\n",
       "\n",
       "        [[[-0.3132,  0.0653,  0.1965],\n",
       "          [ 0.2589, -0.0446, -0.3148],\n",
       "          [-0.3296, -0.3176, -0.2491]]],\n",
       "\n",
       "\n",
       "        [[[ 0.2315, -0.2188,  0.0069],\n",
       "          [-0.1228,  0.1398, -0.3039],\n",
       "          [-0.1003,  0.3778, -0.0046]]],\n",
       "\n",
       "\n",
       "        [[[-0.2342, -0.2522,  0.3748],\n",
       "          [-0.1346,  0.3426,  0.0159],\n",
       "          [-0.1521,  0.3256, -0.1375]]],\n",
       "\n",
       "\n",
       "        [[[-0.1896,  0.1401,  0.1663],\n",
       "          [ 0.4169, -0.1075, -0.4026],\n",
       "          [ 0.4369,  0.1723, -0.2892]]],\n",
       "\n",
       "\n",
       "        [[[-0.3365,  0.0382, -0.1305],\n",
       "          [ 0.2216, -0.1588, -0.3089],\n",
       "          [ 0.2767,  0.0893,  0.1028]]],\n",
       "\n",
       "\n",
       "        [[[ 0.4418,  0.3056, -0.0965],\n",
       "          [ 0.4112,  0.0604,  0.1456],\n",
       "          [ 0.5094,  0.5045,  0.0185]]],\n",
       "\n",
       "\n",
       "        [[[ 0.4562,  0.2874, -0.1727],\n",
       "          [ 0.2740,  0.1935, -0.3056],\n",
       "          [-0.2008, -0.3767, -0.3027]]],\n",
       "\n",
       "\n",
       "        [[[ 0.0523, -0.0119,  0.0950],\n",
       "          [ 0.2892,  0.1903, -0.0523],\n",
       "          [ 0.1173,  0.0341, -0.0509]]],\n",
       "\n",
       "\n",
       "        [[[-0.1803,  0.0969,  0.1691],\n",
       "          [ 0.1127, -0.1867, -0.0638],\n",
       "          [-0.1213, -0.1911, -0.1183]]],\n",
       "\n",
       "\n",
       "        [[[ 0.0183, -0.0024, -0.0438],\n",
       "          [-0.1461,  0.3661,  0.5790],\n",
       "          [-0.2986,  0.4676,  0.4306]]],\n",
       "\n",
       "\n",
       "        [[[-0.0696, -0.3742, -0.3588],\n",
       "          [ 0.1668,  0.0208, -0.2686],\n",
       "          [ 0.3137,  0.3531,  0.3901]]],\n",
       "\n",
       "\n",
       "        [[[ 0.1343,  0.1870, -0.4041],\n",
       "          [ 0.1763, -0.2020, -0.0820],\n",
       "          [ 0.2842,  0.0828, -0.0256]]],\n",
       "\n",
       "\n",
       "        [[[ 0.1615, -0.3276, -0.2582],\n",
       "          [-0.0777,  0.2593,  0.3564],\n",
       "          [ 0.2758,  0.4823, -0.1309]]],\n",
       "\n",
       "\n",
       "        [[[ 0.2112, -0.1969,  0.0832],\n",
       "          [-0.0061, -0.2023, -0.2650],\n",
       "          [ 0.1018,  0.1260,  0.3829]]],\n",
       "\n",
       "\n",
       "        [[[ 0.4272,  0.1785,  0.3504],\n",
       "          [ 0.1403,  0.2333,  0.3166],\n",
       "          [-0.0308, -0.5808, -0.4158]]],\n",
       "\n",
       "\n",
       "        [[[-0.4648, -0.2011,  0.4534],\n",
       "          [ 0.1969,  0.3143, -0.0337],\n",
       "          [ 0.0514,  0.2918, -0.0634]]],\n",
       "\n",
       "\n",
       "        [[[ 0.5616,  0.4352,  0.0440],\n",
       "          [-0.2414, -0.2229, -0.2465],\n",
       "          [ 0.1289, -0.3397, -0.2288]]],\n",
       "\n",
       "\n",
       "        [[[ 0.3922,  0.3318,  0.3107],\n",
       "          [-0.1803, -0.1257, -0.0152],\n",
       "          [ 0.1761, -0.0897,  0.1393]]],\n",
       "\n",
       "\n",
       "        [[[-0.1626,  0.1178, -0.3050],\n",
       "          [ 0.4539,  0.4693,  0.3461],\n",
       "          [ 0.3742,  0.4332, -0.1905]]],\n",
       "\n",
       "\n",
       "        [[[-0.1668, -0.1465, -0.1386],\n",
       "          [-0.1604,  0.0668, -0.2169],\n",
       "          [ 0.1770, -0.3018, -0.2255]]],\n",
       "\n",
       "\n",
       "        [[[ 0.3958,  0.5639,  0.0682],\n",
       "          [-0.1595, -0.1708,  0.3639],\n",
       "          [-0.2367, -0.4220, -0.2947]]],\n",
       "\n",
       "\n",
       "        [[[-0.2633, -0.2455, -0.2807],\n",
       "          [-0.3387, -0.0842, -0.0247],\n",
       "          [ 0.4944,  0.4786,  0.1226]]]], device='cuda:0')"
      ]
     },
     "execution_count": 5,
     "metadata": {},
     "output_type": "execute_result"
    }
   ],
   "source": [
    "checkpoint.keys()\n",
    "model_dict = checkpoint['model_state_dict']\n",
    "model_dict['conv1.weight']\n"
   ]
  },
  {
   "cell_type": "code",
   "execution_count": 6,
   "id": "broad-coaching",
   "metadata": {},
   "outputs": [
    {
     "name": "stdout",
     "output_type": "stream",
     "text": [
      "\n",
      "Test set: Accuracy: 9899/10000 (99%)\n",
      "\n"
     ]
    }
   ],
   "source": [
    "### Can be run without training again by using checkpoint\n",
    "\n",
    "model.eval()\n",
    "\n",
    "test_loss = 0\n",
    "correct = 0\n",
    "\n",
    "with torch.no_grad():\n",
    "    for data, target in test_loader:\n",
    "        data, target = data.to(device), target.to(device) # loading to GPU\n",
    "        output = model(data)\n",
    "        pred = output.argmax(dim=1, keepdim=True)  \n",
    "        correct += pred.eq(target.view_as(pred)).sum().item()\n",
    "\n",
    "test_loss /= len(test_loader.dataset)\n",
    "\n",
    "print('\\nTest set: Accuracy: {}/{} ({:.0f}%)\\n'.format(\n",
    "        correct, len(test_loader.dataset),\n",
    "        100. * correct / len(test_loader.dataset)))"
   ]
  },
  {
   "cell_type": "code",
   "execution_count": 7,
   "id": "swiss-opening",
   "metadata": {},
   "outputs": [
    {
     "name": "stdout",
     "output_type": "stream",
     "text": [
      "prehooked\n",
      "prehooked\n",
      "1st convolution's input size: torch.Size([20, 1, 28, 28])\n",
      "2nd convolution's input size: torch.Size([20, 32, 26, 26])\n"
     ]
    }
   ],
   "source": [
    "class SaveOutput:\n",
    "    def __init__(self):\n",
    "        self.outputs = []\n",
    "    def __call__(self, module, module_in):\n",
    "        self.outputs.append(module_in)\n",
    "    def clear(self):\n",
    "        self.outputs = []  \n",
    "        \n",
    "######### Save inputs from selected layer ##########\n",
    "save_output = SaveOutput()\n",
    "\n",
    "for layer in model.modules():\n",
    "    if isinstance(layer, torch.nn.Conv2d):\n",
    "        print(\"prehooked\")\n",
    "        layer.register_forward_pre_hook(save_output)       ## Input for the module will be grapped       \n",
    "####################################################\n",
    "\n",
    "dataiter = iter(train_loader)\n",
    "images, labels = dataiter.next()\n",
    "images = images.to(device)\n",
    "out = model(images)\n",
    "print(\"1st convolution's input size:\", save_output.outputs[0][0].size())\n",
    "print(\"2nd convolution's input size:\", save_output.outputs[1][0].size())"
   ]
  },
  {
   "cell_type": "code",
   "execution_count": 8,
   "id": "waiting-priest",
   "metadata": {},
   "outputs": [
    {
     "name": "stdout",
     "output_type": "stream",
     "text": [
      "Net(\n",
      "  (conv1): Conv2d(1, 32, kernel_size=(3, 3), stride=(1, 1))\n",
      "  (conv2): Conv2d(32, 64, kernel_size=(3, 3), stride=(1, 1))\n",
      "  (dropout1): Dropout(p=0.25, inplace=False)\n",
      "  (dropout2): Dropout(p=0.5, inplace=False)\n",
      "  (fc1): Linear(in_features=9216, out_features=128, bias=True)\n",
      "  (fc2): Linear(in_features=128, out_features=10, bias=True)\n",
      ")\n",
      "Conv2d(1, 32, kernel_size=(3, 3), stride=(1, 1))\n",
      "Conv2d(32, 64, kernel_size=(3, 3), stride=(1, 1))\n",
      "Dropout(p=0.25, inplace=False)\n",
      "Dropout(p=0.5, inplace=False)\n",
      "Linear(in_features=9216, out_features=128, bias=True)\n",
      "Linear(in_features=128, out_features=10, bias=True)\n"
     ]
    }
   ],
   "source": [
    "for layer in model.modules():\n",
    "    print(layer)"
   ]
  },
  {
   "cell_type": "code",
   "execution_count": 9,
   "id": "endangered-surveillance",
   "metadata": {},
   "outputs": [
    {
     "data": {
      "text/plain": [
       "tensor([[[[-0.4242, -0.4242, -0.4242,  ..., -0.4242, -0.4242, -0.4242],\n",
       "          [-0.4242, -0.4242, -0.4242,  ..., -0.4242, -0.4242, -0.4242],\n",
       "          [-0.4242, -0.4242, -0.4242,  ..., -0.4242, -0.4242, -0.4242],\n",
       "          ...,\n",
       "          [-0.4242, -0.4242, -0.4242,  ..., -0.4242, -0.4242, -0.4242],\n",
       "          [-0.4242, -0.4242, -0.4242,  ..., -0.4242, -0.4242, -0.4242],\n",
       "          [-0.4242, -0.4242, -0.4242,  ..., -0.4242, -0.4242, -0.4242]]],\n",
       "\n",
       "\n",
       "        [[[-0.4242, -0.4242, -0.4242,  ..., -0.4242, -0.4242, -0.4242],\n",
       "          [-0.4242, -0.4242, -0.4242,  ..., -0.4242, -0.4242, -0.4242],\n",
       "          [-0.4242, -0.4242, -0.4242,  ..., -0.4242, -0.4242, -0.4242],\n",
       "          ...,\n",
       "          [-0.4242, -0.4242, -0.4242,  ..., -0.4242, -0.4242, -0.4242],\n",
       "          [-0.4242, -0.4242, -0.4242,  ..., -0.4242, -0.4242, -0.4242],\n",
       "          [-0.4242, -0.4242, -0.4242,  ..., -0.4242, -0.4242, -0.4242]]],\n",
       "\n",
       "\n",
       "        [[[-0.4242, -0.4242, -0.4242,  ..., -0.4242, -0.4242, -0.4242],\n",
       "          [-0.4242, -0.4242, -0.4242,  ..., -0.4242, -0.4242, -0.4242],\n",
       "          [-0.4242, -0.4242, -0.4242,  ..., -0.4242, -0.4242, -0.4242],\n",
       "          ...,\n",
       "          [-0.4242, -0.4242, -0.4242,  ..., -0.4242, -0.4242, -0.4242],\n",
       "          [-0.4242, -0.4242, -0.4242,  ..., -0.4242, -0.4242, -0.4242],\n",
       "          [-0.4242, -0.4242, -0.4242,  ..., -0.4242, -0.4242, -0.4242]]],\n",
       "\n",
       "\n",
       "        ...,\n",
       "\n",
       "\n",
       "        [[[-0.4242, -0.4242, -0.4242,  ..., -0.4242, -0.4242, -0.4242],\n",
       "          [-0.4242, -0.4242, -0.4242,  ..., -0.4242, -0.4242, -0.4242],\n",
       "          [-0.4242, -0.4242, -0.4242,  ..., -0.4242, -0.4242, -0.4242],\n",
       "          ...,\n",
       "          [-0.4242, -0.4242, -0.4242,  ..., -0.4242, -0.4242, -0.4242],\n",
       "          [-0.4242, -0.4242, -0.4242,  ..., -0.4242, -0.4242, -0.4242],\n",
       "          [-0.4242, -0.4242, -0.4242,  ..., -0.4242, -0.4242, -0.4242]]],\n",
       "\n",
       "\n",
       "        [[[-0.4242, -0.4242, -0.4242,  ..., -0.4242, -0.4242, -0.4242],\n",
       "          [-0.4242, -0.4242, -0.4242,  ..., -0.4242, -0.4242, -0.4242],\n",
       "          [-0.4242, -0.4242, -0.4242,  ..., -0.4242, -0.4242, -0.4242],\n",
       "          ...,\n",
       "          [-0.4242, -0.4242, -0.4242,  ..., -0.4242, -0.4242, -0.4242],\n",
       "          [-0.4242, -0.4242, -0.4242,  ..., -0.4242, -0.4242, -0.4242],\n",
       "          [-0.4242, -0.4242, -0.4242,  ..., -0.4242, -0.4242, -0.4242]]],\n",
       "\n",
       "\n",
       "        [[[-0.4242, -0.4242, -0.4242,  ..., -0.4242, -0.4242, -0.4242],\n",
       "          [-0.4242, -0.4242, -0.4242,  ..., -0.4242, -0.4242, -0.4242],\n",
       "          [-0.4242, -0.4242, -0.4242,  ..., -0.4242, -0.4242, -0.4242],\n",
       "          ...,\n",
       "          [-0.4242, -0.4242, -0.4242,  ..., -0.4242, -0.4242, -0.4242],\n",
       "          [-0.4242, -0.4242, -0.4242,  ..., -0.4242, -0.4242, -0.4242],\n",
       "          [-0.4242, -0.4242, -0.4242,  ..., -0.4242, -0.4242, -0.4242]]]],\n",
       "       device='cuda:0')"
      ]
     },
     "execution_count": 9,
     "metadata": {},
     "output_type": "execute_result"
    }
   ],
   "source": [
    "save_output.outputs[0][0]"
   ]
  },
  {
   "cell_type": "code",
   "execution_count": 10,
   "id": "executive-positive",
   "metadata": {},
   "outputs": [
    {
     "data": {
      "text/plain": [
       "torch.Size([20, 1, 28, 28])"
      ]
     },
     "execution_count": 10,
     "metadata": {},
     "output_type": "execute_result"
    }
   ],
   "source": [
    "my_input = save_output.outputs[0][0]\n",
    "images.size()"
   ]
  },
  {
   "cell_type": "code",
   "execution_count": 11,
   "id": "computational-stationery",
   "metadata": {},
   "outputs": [],
   "source": [
    "m = model.conv1"
   ]
  },
  {
   "cell_type": "code",
   "execution_count": 12,
   "id": "viral-rendering",
   "metadata": {},
   "outputs": [],
   "source": [
    "my_output = F.relu(m(my_input))"
   ]
  },
  {
   "cell_type": "code",
   "execution_count": 13,
   "id": "found-examination",
   "metadata": {},
   "outputs": [
    {
     "data": {
      "text/plain": [
       "tensor(0., device='cuda:0', grad_fn=<SumBackward0>)"
      ]
     },
     "execution_count": 13,
     "metadata": {},
     "output_type": "execute_result"
    }
   ],
   "source": [
    "(my_output - save_output.outputs[1][0]).sum()"
   ]
  },
  {
   "cell_type": "code",
   "execution_count": 14,
   "id": "cutting-grounds",
   "metadata": {},
   "outputs": [],
   "source": [
    "\n"
   ]
  },
  {
   "cell_type": "code",
   "execution_count": null,
   "id": "signal-tanzania",
   "metadata": {},
   "outputs": [],
   "source": []
  },
  {
   "cell_type": "code",
   "execution_count": null,
   "id": "bacterial-fighter",
   "metadata": {},
   "outputs": [],
   "source": []
  },
  {
   "cell_type": "code",
   "execution_count": null,
   "id": "absolute-richmond",
   "metadata": {},
   "outputs": [],
   "source": []
  }
 ],
 "metadata": {
  "kernelspec": {
   "display_name": "Python 3 (ipykernel)",
   "language": "python",
   "name": "python3"
  },
  "language_info": {
   "codemirror_mode": {
    "name": "ipython",
    "version": 3
   },
   "file_extension": ".py",
   "mimetype": "text/x-python",
   "name": "python",
   "nbconvert_exporter": "python",
   "pygments_lexer": "ipython3",
   "version": "3.9.5"
  }
 },
 "nbformat": 4,
 "nbformat_minor": 5
}
