{
 "cells": [
  {
   "cell_type": "code",
   "execution_count": 3,
   "id": "completed-burns",
   "metadata": {
    "tags": []
   },
   "outputs": [],
   "source": [
    "import torch\n",
    "import numpy as np\n",
    "from torchvision import datasets\n",
    "import torchvision.transforms as transforms\n",
    "\n",
    "# number of subprocesses to use for data loading\n",
    "num_workers = 0   # not gpu numbers\n",
    "# how many samples per batch to load\n",
    "batch_size = 20\n",
    "\n",
    "# convert data to torch.FloatTensor\n",
    "\n",
    "transform = transforms.Compose(\n",
    "    [transforms.ToTensor(),\n",
    "     transforms.Normalize((0.1307), (0.3081))])  ## std for 2-dim \n",
    "\n",
    "\n",
    "# choose the training and test datasets\n",
    "train_data = datasets.MNIST(root='data', train=True, download=True,  transform=transform)\n",
    "test_data  = datasets.MNIST(root='data', train=False, download=True, transform=transform)\n",
    "\n",
    "# prepare data loaders\n",
    "train_loader = torch.utils.data.DataLoader(train_data, batch_size=batch_size,\n",
    "    num_workers=num_workers)\n",
    "test_loader = torch.utils.data.DataLoader(test_data, batch_size=batch_size, \n",
    "    num_workers=num_workers)"
   ]
  },
  {
   "cell_type": "code",
   "execution_count": 2,
   "id": "cathedral-canberra",
   "metadata": {},
   "outputs": [
    {
     "data": {
      "text/plain": [
       "Dataset MNIST\n",
       "    Number of datapoints: 60000\n",
       "    Root location: data\n",
       "    Split: Train\n",
       "    StandardTransform\n",
       "Transform: Compose(\n",
       "               ToTensor()\n",
       "               Normalize(mean=0.1307, std=0.3081)\n",
       "           )"
      ]
     },
     "execution_count": 2,
     "metadata": {},
     "output_type": "execute_result"
    }
   ],
   "source": [
    "train_data\n"
   ]
  },
  {
   "cell_type": "code",
   "execution_count": 4,
   "id": "checked-forestry",
   "metadata": {},
   "outputs": [
    {
     "name": "stderr",
     "output_type": "stream",
     "text": [
      "/tmp/ipykernel_1606/1834221740.py:12: MatplotlibDeprecationWarning: Passing non-integers as three-element position specification is deprecated since 3.3 and will be removed two minor releases later.\n",
      "  ax = fig.add_subplot(2, 20/2, idx+1, xticks=[], yticks=[])\n"
     ]
    },
    {
     "data": {
      "image/png": "[encoded data removed]",
      "text/plain": [
       "<Figure size 1800x288 with 20 Axes>"
      ]
     },
     "metadata": {},
     "output_type": "display_data"
    }
   ],
   "source": [
    "import matplotlib.pyplot as plt\n",
    "%matplotlib inline\n",
    "    \n",
    "# obtain one batch of training images\n",
    "dataiter = iter(train_loader)\n",
    "images, labels = dataiter.next()\n",
    "images = images.numpy()\n",
    "\n",
    "# plot the images in the batch, along with the corresponding labels\n",
    "fig = plt.figure(figsize=(25, 4))\n",
    "for idx in np.arange(20):\n",
    "    ax = fig.add_subplot(2, 20/2, idx+1, xticks=[], yticks=[])\n",
    "    ax.imshow(np.squeeze(images[idx]), cmap='gray')\n",
    "    # print out the correct label for each image\n",
    "    # .item() gets the value contained in a Tensor\n",
    "    ax.set_title(str(labels[idx].item()))\n"
   ]
  },
  {
   "cell_type": "code",
   "execution_count": 5,
   "id": "about-substitute",
   "metadata": {},
   "outputs": [
    {
     "name": "stdout",
     "output_type": "stream",
     "text": [
      "torch.Size([20, 1, 28, 28])\n"
     ]
    }
   ],
   "source": [
    "dataiter = iter(train_loader)\n",
    "images, labels = dataiter.next()\n",
    "print(images.size()) # 28 X 28\n",
    "#print(images[0,:,:,:]) # negative numbers exist, # first image in the batch\n",
    "#print(labels)"
   ]
  },
  {
   "cell_type": "code",
   "execution_count": 6,
   "id": "random-topic",
   "metadata": {},
   "outputs": [
    {
     "name": "stdout",
     "output_type": "stream",
     "text": [
      "Net(\n",
      "  (fc1): Linear(in_features=784, out_features=512, bias=True)\n",
      "  (fc2): Linear(in_features=512, out_features=512, bias=True)\n",
      "  (fc3): Linear(in_features=512, out_features=10, bias=True)\n",
      ")\n"
     ]
    }
   ],
   "source": [
    "import torch.nn as nn\n",
    "import torch.nn.functional as F\n",
    "\n",
    "## Define the NN architecture\n",
    "class Net(nn.Module):\n",
    "    def __init__(self):\n",
    "        super(Net, self).__init__()\n",
    "        self.fc1 = nn.Linear(28 * 28, 512)\n",
    "        # linear layer (n_hidden -> hidden_2)\n",
    "        self.fc2 = nn.Linear(512, 512)\n",
    "        # linear layer (n_hidden -> 10)\n",
    "        self.fc3 = nn.Linear(512, 10)\n",
    "\n",
    "    def forward(self, x):\n",
    "        # flatten image input\n",
    "        x = x.view(-1, 28 * 28)\n",
    "        # add hidden layer, with relu activation function\n",
    "        x = F.relu(self.fc1(x))\n",
    "        x = F.relu(self.fc2(x))\n",
    "        x = F.relu(self.fc3(x))\n",
    "        return x\n",
    "\n",
    "model = Net()\n",
    "print(model)"
   ]
  },
  {
   "cell_type": "code",
   "execution_count": 7,
   "id": "innocent-devil",
   "metadata": {},
   "outputs": [
    {
     "name": "stdout",
     "output_type": "stream",
     "text": [
      "torch.Size([20, 1, 28, 28])\n",
      "torch.Size([20, 784])\n"
     ]
    }
   ],
   "source": [
    "print(images.size())\n",
    "temp = images.view(-1, 28 * 28)  # 20*28*28 / (28*28)\n",
    "print(temp.size())               # transforming the 2-D image to 1-D vector"
   ]
  },
  {
   "cell_type": "code",
   "execution_count": 8,
   "id": "technological-client",
   "metadata": {},
   "outputs": [
    {
     "name": "stdout",
     "output_type": "stream",
     "text": [
      "Linear(in_features=784, out_features=512, bias=True)\n",
      "Parameter containing:\n",
      "tensor([[ 0.0203,  0.0186, -0.0262,  ..., -0.0265, -0.0300, -0.0157],\n",
      "        [-0.0266, -0.0320, -0.0201,  ...,  0.0274, -0.0207, -0.0260],\n",
      "        [-0.0046, -0.0057,  0.0189,  ..., -0.0199,  0.0174,  0.0293],\n",
      "        ...,\n",
      "        [ 0.0310,  0.0281,  0.0074,  ...,  0.0106, -0.0242, -0.0023],\n",
      "        [ 0.0194,  0.0208, -0.0033,  ...,  0.0310, -0.0123, -0.0067],\n",
      "        [-0.0143, -0.0157,  0.0326,  ...,  0.0355, -0.0357,  0.0300]],\n",
      "       requires_grad=True)\n"
     ]
    }
   ],
   "source": [
    "print(model.fc1)\n",
    "print(model.fc1.weight)\n",
    "\n"
   ]
  },
  {
   "cell_type": "code",
   "execution_count": 9,
   "id": "dedicated-importance",
   "metadata": {},
   "outputs": [
    {
     "name": "stdout",
     "output_type": "stream",
     "text": [
      "Epoch: 1 \tTraining Loss: 0.647870\n",
      "Epoch: 2 \tTraining Loss: 0.402128\n",
      "Epoch: 3 \tTraining Loss: 0.351409\n",
      "Epoch: 4 \tTraining Loss: 0.323380\n",
      "Epoch: 5 \tTraining Loss: 0.305060\n",
      "Epoch: 6 \tTraining Loss: 0.291769\n",
      "Epoch: 7 \tTraining Loss: 0.281453\n",
      "Epoch: 8 \tTraining Loss: 0.273183\n",
      "Epoch: 9 \tTraining Loss: 0.266517\n",
      "Epoch: 10 \tTraining Loss: 0.260871\n"
     ]
    }
   ],
   "source": [
    "criterion = nn.CrossEntropyLoss()\n",
    "optimizer = torch.optim.SGD(model.parameters(), lr=0.01)\n",
    "\n",
    "# number of epochs to train the model\n",
    "n_epochs = 10  # suggest training between 20-50 epochs\n",
    "# per epoch, all the training data set is used once\n",
    "\n",
    "\n",
    "model.train() # prep model for training\n",
    "\n",
    "\n",
    "for epoch in range(n_epochs):\n",
    "    # monitor training loss\n",
    "    train_loss = 0.0\n",
    "    \n",
    "    ###################\n",
    "    # train the model #\n",
    "    ###################\n",
    "    for data, target in train_loader:\n",
    "        # clear the gradients of all optimized variables\n",
    "        optimizer.zero_grad()\n",
    "        # forward pass: compute predicted outputs by passing inputs to the model\n",
    "        output = model(data)\n",
    "        # calculate the loss\n",
    "        loss = criterion(output, target)\n",
    "        loss.backward()\n",
    "        optimizer.step()\n",
    "        train_loss += loss.item()*data.size(0) # as loss is tensor, .item() needed to get the value\n",
    "        \n",
    "    # print training statistics \n",
    "    # calculate average loss over an epoch\n",
    "    train_loss = train_loss/len(train_loader.dataset)\n",
    "\n",
    "    print('Epoch: {} \\tTraining Loss: {:.6f}'.format(epoch+1, train_loss)) ## printing command"
   ]
  },
  {
   "cell_type": "code",
   "execution_count": 22,
   "id": "medium-bible",
   "metadata": {},
   "outputs": [
    {
     "name": "stdout",
     "output_type": "stream",
     "text": [
      "Epoch: 9 \tTraining Loss: 0.2877039649238965\n"
     ]
    }
   ],
   "source": [
    "print(f'Epoch: {epoch} \\tTraining Loss: {train_loss}') ## printing command"
   ]
  },
  {
   "cell_type": "code",
   "execution_count": null,
   "id": "broad-coaching",
   "metadata": {},
   "outputs": [],
   "source": [
    "model.eval()  ## prepare for evaluation\n",
    "\n",
    "test_loss = 0\n",
    "correct = 0\n",
    "\n",
    "with torch.no_grad():  # disabling the gradient calculation\n",
    "    for data, target in test_loader:     ### using \"test_loader\" for evaluation\n",
    "        output = model(data)\n",
    "        pred = output.argmax(dim=1, keepdim=True)  \n",
    "        correct += pred.eq(target.view_as(pred)).sum().item()\n",
    "\n",
    "test_loss /= len(test_loader.dataset)\n",
    "\n",
    "print('\\nTest set: Accuracy: {}/{} ({:.0f}%)\\n'.format(\n",
    "        correct, len(test_loader.dataset),\n",
    "        100. * correct / len(test_loader.dataset)))"
   ]
  },
  {
   "cell_type": "code",
   "execution_count": null,
   "id": "swiss-opening",
   "metadata": {},
   "outputs": [],
   "source": [
    "print(output)  # Not clean one hot encoding, # no negative numbers\n",
    "#print(output.size())"
   ]
  },
  {
   "cell_type": "code",
   "execution_count": null,
   "id": "challenging-bangladesh",
   "metadata": {},
   "outputs": [],
   "source": [
    "print(output.size())\n",
    "pred = output.argmax(dim=1, keepdim=True)\n",
    "print(pred)"
   ]
  },
  {
   "cell_type": "code",
   "execution_count": null,
   "id": "executive-positive",
   "metadata": {},
   "outputs": [],
   "source": [
    "print(pred.size())\n",
    "print(target.size())\n",
    "print(    target.view_as(pred).size()   )"
   ]
  },
  {
   "cell_type": "code",
   "execution_count": null,
   "id": "computational-stationery",
   "metadata": {},
   "outputs": [],
   "source": [
    "print(     pred.eq(   target.view_as(pred)  )             )\n",
    "print(     pred.eq(target.view_as(pred)).sum().item()     )"
   ]
  },
  {
   "cell_type": "code",
   "execution_count": null,
   "id": "found-examination",
   "metadata": {},
   "outputs": [],
   "source": []
  },
  {
   "cell_type": "code",
   "execution_count": null,
   "id": "cutting-grounds",
   "metadata": {},
   "outputs": [],
   "source": []
  },
  {
   "cell_type": "code",
   "execution_count": null,
   "id": "signal-tanzania",
   "metadata": {},
   "outputs": [],
   "source": []
  }
 ],
 "metadata": {
  "kernelspec": {
   "display_name": "Python 3 (ipykernel)",
   "language": "python",
   "name": "python3"
  },
  "language_info": {
   "codemirror_mode": {
    "name": "ipython",
    "version": 3
   },
   "file_extension": ".py",
   "mimetype": "text/x-python",
   "name": "python",
   "nbconvert_exporter": "python",
   "pygments_lexer": "ipython3",
   "version": "3.9.5"
  }
 },
 "nbformat": 4,
 "nbformat_minor": 5
}
